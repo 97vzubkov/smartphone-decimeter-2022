{
 "cells": [
  {
   "cell_type": "markdown",
   "id": "a21e4766",
   "metadata": {
    "papermill": {
     "duration": 0.018328,
     "end_time": "2022-05-07T03:05:27.985585",
     "exception": false,
     "start_time": "2022-05-07T03:05:27.967257",
     "status": "completed"
    },
    "tags": []
   },
   "source": [
    "# Overview\n",
    "\n",
    "This notebook is designed to give you an introduction on how to approach this competition and use gnss data. I perform outlier correction and apply a savgol filter after hyperparameter tuning with bayesian optimization.\n",
    "\n",
    "This notebook is broken down into a few sections. \n",
    "1. Standard Functions and Constants - this code is mostly helper functions borrowed from the notebook by @saitodevel01. It is used to generate the baseline which I have included as a datasource to save time. This section also contains my imports and evaluation function.\n",
    "2. Outlier Correction - here I detect outliers by comparing the lat and lon at each timestep to the timestep before and after. If the haversine distance between the points is greater than a threshold, it is flagged as an outlier. I then replace outliers with the mean of the lat and lon at the previous and future timestep.\n",
    "3. Savgol Filter - here I have defined a function to apply scipy’s savgol filter algorithm to the lat and lon columns. The function is set up to hyperparameter tune the window length and poly order. \n",
    "4. Bayesian Optimization - here I use skopt’s gp_minimize function in order to apply Bayesian optimization using Gaussian Processes. I optimize the outlier correction threshold, savgol filter window length, and savgol filter poly order\n",
    "5. Submit - uses optimal parameters to generate submission file\n",
    "\n",
    "**References**\n",
    "\n",
    "https://www.kaggle.com/code/saitodevel01/gsdc2-baseline-submission by @saitodevel01 - used for baseline generation\n",
    "\n",
    "https://www.kaggle.com/code/dehokanta/baseline-post-processing-by-outlier-correction by @dehokanta - notebook from last year’s competition inspired outlier correction technique\n",
    "\n",
    "https://www.kaggle.com/code/tqa236/kalman-filter-hyperparameter-search-with-bo by @tqa236 - notebook from last year’s competition inspiration for bayesian optimization"
   ]
  },
  {
   "cell_type": "markdown",
   "id": "52ea46a4",
   "metadata": {
    "papermill": {
     "duration": 0.017117,
     "end_time": "2022-05-07T03:05:28.021028",
     "exception": false,
     "start_time": "2022-05-07T03:05:28.003911",
     "status": "completed"
    },
    "tags": []
   },
   "source": [
    "# Standard Functions and Constants"
   ]
  },
  {
   "cell_type": "code",
   "execution_count": 1,
   "id": "ce923c49",
   "metadata": {
    "_cell_guid": "b1076dfc-b9ad-4769-8c92-a6c4dae69d19",
    "_uuid": "8f2839f25d086af736a60e9eeb907d3b93b6e0e5",
    "execution": {
     "iopub.execute_input": "2022-05-07T03:05:28.062269Z",
     "iopub.status.busy": "2022-05-07T03:05:28.061759Z",
     "iopub.status.idle": "2022-05-07T03:05:30.489300Z",
     "shell.execute_reply": "2022-05-07T03:05:30.488311Z"
    },
    "papermill": {
     "duration": 2.450799,
     "end_time": "2022-05-07T03:05:30.492362",
     "exception": false,
     "start_time": "2022-05-07T03:05:28.041563",
     "status": "completed"
    },
    "tags": []
   },
   "outputs": [],
   "source": [
    "import glob\n",
    "from dataclasses import dataclass\n",
    "import numpy as np\n",
    "import pandas as pd\n",
    "from tqdm.notebook import tqdm\n",
    "from pathlib import Path\n",
    "\n",
    "from scipy.interpolate import InterpolatedUnivariateSpline\n",
    "from scipy.signal import savgol_filter\n",
    "\n",
    "from skopt import gp_minimize\n",
    "from skopt.space import Real, Integer\n",
    "\n",
    "import warnings\n",
    "warnings.filterwarnings('ignore')\n",
    "\n",
    "INPUT_PATH = '../input/smartphone-decimeter-2022'\n",
    "bl_path = '../input/gsdc2-baseline-submission'\n",
    "bl_train = pd.read_csv(f'{bl_path}/baseline_train.csv')\n",
    "bl_test = pd.read_csv(f'{bl_path}/baseline_test.csv')"
   ]
  },
  {
   "cell_type": "code",
   "execution_count": 2,
   "id": "1f80bd7e",
   "metadata": {
    "execution": {
     "iopub.execute_input": "2022-05-07T03:05:30.529994Z",
     "iopub.status.busy": "2022-05-07T03:05:30.529674Z",
     "iopub.status.idle": "2022-05-07T03:05:30.535634Z",
     "shell.execute_reply": "2022-05-07T03:05:30.534352Z"
    },
    "papermill": {
     "duration": 0.027664,
     "end_time": "2022-05-07T03:05:30.537917",
     "exception": false,
     "start_time": "2022-05-07T03:05:30.510253",
     "status": "completed"
    },
    "tags": []
   },
   "outputs": [],
   "source": [
    "WGS84_SEMI_MAJOR_AXIS = 6378137.0\n",
    "WGS84_SEMI_MINOR_AXIS = 6356752.314245\n",
    "WGS84_SQUARED_FIRST_ECCENTRICITY  = 6.69437999013e-3\n",
    "WGS84_SQUARED_SECOND_ECCENTRICITY = 6.73949674226e-3\n",
    "\n",
    "HAVERSINE_RADIUS = 6_371_000"
   ]
  },
  {
   "cell_type": "code",
   "execution_count": 3,
   "id": "124f1d89",
   "metadata": {
    "execution": {
     "iopub.execute_input": "2022-05-07T03:05:30.576540Z",
     "iopub.status.busy": "2022-05-07T03:05:30.576232Z",
     "iopub.status.idle": "2022-05-07T03:05:30.596025Z",
     "shell.execute_reply": "2022-05-07T03:05:30.594756Z"
    },
    "papermill": {
     "duration": 0.0425,
     "end_time": "2022-05-07T03:05:30.598523",
     "exception": false,
     "start_time": "2022-05-07T03:05:30.556023",
     "status": "completed"
    },
    "tags": []
   },
   "outputs": [],
   "source": [
    "# reference https://www.kaggle.com/code/saitodevel01/gsdc2-baseline-submission\n",
    "\n",
    "@dataclass\n",
    "class ECEF:\n",
    "    x: np.array\n",
    "    y: np.array\n",
    "    z: np.array\n",
    "\n",
    "    def to_numpy(self):\n",
    "        return np.stack([self.x, self.y, self.z], axis=0)\n",
    "\n",
    "    @staticmethod\n",
    "    def from_numpy(pos):\n",
    "        x, y, z = [np.squeeze(w) for w in np.split(pos, 3, axis=-1)]\n",
    "        return ECEF(x=x, y=y, z=z)\n",
    "\n",
    "@dataclass\n",
    "class BLH:\n",
    "    lat : np.array\n",
    "    lng : np.array\n",
    "    hgt : np.array\n",
    "\n",
    "def ECEF_to_BLH(ecef):\n",
    "    a = WGS84_SEMI_MAJOR_AXIS\n",
    "    b = WGS84_SEMI_MINOR_AXIS\n",
    "    e2  = WGS84_SQUARED_FIRST_ECCENTRICITY\n",
    "    e2_ = WGS84_SQUARED_SECOND_ECCENTRICITY\n",
    "    x = ecef.x\n",
    "    y = ecef.y\n",
    "    z = ecef.z\n",
    "    r = np.sqrt(x**2 + y**2)\n",
    "    t = np.arctan2(z * (a/b), r)\n",
    "    B = np.arctan2(z + (e2_*b)*np.sin(t)**3, r - (e2*a)*np.cos(t)**3)\n",
    "    L = np.arctan2(y, x)\n",
    "    n = a / np.sqrt(1 - e2*np.sin(B)**2)\n",
    "    H = (r / np.cos(B)) - n\n",
    "    return BLH(lat=B, lng=L, hgt=H)\n",
    "\n",
    "def haversine_distance(blh_1, blh_2):\n",
    "    dlat = blh_2.lat - blh_1.lat\n",
    "    dlng = blh_2.lng - blh_1.lng\n",
    "    a = np.sin(dlat/2)**2 + np.cos(blh_1.lat) * np.cos(blh_2.lat) * np.sin(dlng/2)**2\n",
    "    dist = 2 * HAVERSINE_RADIUS * np.arcsin(np.sqrt(a))\n",
    "    return dist\n",
    "\n",
    "def pandas_haversine_distance(df1, df2):\n",
    "    blh1 = BLH(\n",
    "        lat=np.deg2rad(df1['LatitudeDegrees'].to_numpy()),\n",
    "        lng=np.deg2rad(df1['LongitudeDegrees'].to_numpy()),\n",
    "        hgt=0,\n",
    "    )\n",
    "    blh2 = BLH(\n",
    "        lat=np.deg2rad(df2['LatitudeDegrees'].to_numpy()),\n",
    "        lng=np.deg2rad(df2['LongitudeDegrees'].to_numpy()),\n",
    "        hgt=0,\n",
    "    )\n",
    "    return haversine_distance(blh1, blh2)"
   ]
  },
  {
   "cell_type": "code",
   "execution_count": 4,
   "id": "7c873e0d",
   "metadata": {
    "execution": {
     "iopub.execute_input": "2022-05-07T03:05:30.637867Z",
     "iopub.status.busy": "2022-05-07T03:05:30.636555Z",
     "iopub.status.idle": "2022-05-07T03:05:30.643276Z",
     "shell.execute_reply": "2022-05-07T03:05:30.642288Z"
    },
    "papermill": {
     "duration": 0.029763,
     "end_time": "2022-05-07T03:05:30.645979",
     "exception": false,
     "start_time": "2022-05-07T03:05:30.616216",
     "status": "completed"
    },
    "tags": []
   },
   "outputs": [],
   "source": [
    "def calc_score(tripID, pred_df, gt_df):\n",
    "    d = pandas_haversine_distance(pred_df, gt_df)\n",
    "    score = np.mean([np.quantile(d, 0.50), np.quantile(d, 0.95)])    \n",
    "    return score"
   ]
  },
  {
   "cell_type": "markdown",
   "id": "924ff744",
   "metadata": {
    "papermill": {
     "duration": 0.017968,
     "end_time": "2022-05-07T03:05:30.682276",
     "exception": false,
     "start_time": "2022-05-07T03:05:30.664308",
     "status": "completed"
    },
    "tags": []
   },
   "source": [
    "# Outlier Correction"
   ]
  },
  {
   "cell_type": "code",
   "execution_count": 5,
   "id": "f6bdc63c",
   "metadata": {
    "execution": {
     "iopub.execute_input": "2022-05-07T03:05:30.721985Z",
     "iopub.status.busy": "2022-05-07T03:05:30.721548Z",
     "iopub.status.idle": "2022-05-07T03:05:30.738822Z",
     "shell.execute_reply": "2022-05-07T03:05:30.737941Z"
    },
    "papermill": {
     "duration": 0.039508,
     "end_time": "2022-05-07T03:05:30.741282",
     "exception": false,
     "start_time": "2022-05-07T03:05:30.701774",
     "status": "completed"
    },
    "tags": []
   },
   "outputs": [],
   "source": [
    "def calc_haversine(lat1, lon1, lat2, lon2):\n",
    "    \"\"\"Calculates the great circle distance between two points\n",
    "    on the earth. Inputs are array-like and specified in decimal degrees.\n",
    "    \"\"\"\n",
    "    RADIUS = 6_367_000\n",
    "    lat1, lon1, lat2, lon2 = map(np.radians, [lat1, lon1, lat2, lon2])\n",
    "    dlat = lat2 - lat1\n",
    "    dlon = lon2 - lon1\n",
    "    a = np.sin(dlat/2)**2 + \\\n",
    "        np.cos(lat1) * np.cos(lat2) * np.sin(dlon/2)**2\n",
    "    dist = 2 * RADIUS * np.arcsin(a**0.5)\n",
    "    return dist\n",
    "\n",
    "def correct_outliers(df, th=2):\n",
    "    df['dist_pre'] = 0\n",
    "    df['dist_pro'] = 0\n",
    "\n",
    "    df['latDeg_pre'] = df['LatitudeDegrees'].shift(periods=1,fill_value=0)\n",
    "    df['lngDeg_pre'] = df['LongitudeDegrees'].shift(periods=1,fill_value=0)\n",
    "    df['latDeg_pro'] = df['LatitudeDegrees'].shift(periods=-1,fill_value=0)\n",
    "    df['lngDeg_pro'] = df['LongitudeDegrees'].shift(periods=-1,fill_value=0)\n",
    "    df['dist_pre'] = calc_haversine(df.latDeg_pre, df.lngDeg_pre, df.LatitudeDegrees, df.LongitudeDegrees)\n",
    "    df['dist_pro'] = calc_haversine(df.LatitudeDegrees, df.LongitudeDegrees, df.latDeg_pro, df.lngDeg_pro)\n",
    "\n",
    "    df.loc[df.index.min(), 'dist_pre'] = 0\n",
    "    df.loc[df.index.max(), 'dist_pro'] = 0\n",
    "    \n",
    "    pro_95 = df['dist_pro'].mean() + (df['dist_pro'].std() * th)\n",
    "    pre_95 = df['dist_pre'].mean() + (df['dist_pre'].std() * th)\n",
    "\n",
    "    ind = df[(df['dist_pro'] > pro_95)&(df['dist_pre'] > pre_95)][['dist_pre','dist_pro']].index\n",
    "\n",
    "    for i in ind:\n",
    "        df.loc[i,'LatitudeDegrees'] = (df.loc[i-1,'LatitudeDegrees'] + df.loc[i+1,'LatitudeDegrees'])/2\n",
    "        df.loc[i,'LongitudeDegrees'] = (df.loc[i-1,'LongitudeDegrees'] + df.loc[i+1,'LongitudeDegrees'])/2\n",
    "    \n",
    "    return df"
   ]
  },
  {
   "cell_type": "markdown",
   "id": "cec47c98",
   "metadata": {
    "papermill": {
     "duration": 0.01889,
     "end_time": "2022-05-07T03:05:30.779440",
     "exception": false,
     "start_time": "2022-05-07T03:05:30.760550",
     "status": "completed"
    },
    "tags": []
   },
   "source": [
    "# Savgol Filter"
   ]
  },
  {
   "cell_type": "code",
   "execution_count": 6,
   "id": "6e588f54",
   "metadata": {
    "execution": {
     "iopub.execute_input": "2022-05-07T03:05:30.816287Z",
     "iopub.status.busy": "2022-05-07T03:05:30.815849Z",
     "iopub.status.idle": "2022-05-07T03:05:30.820958Z",
     "shell.execute_reply": "2022-05-07T03:05:30.820313Z"
    },
    "papermill": {
     "duration": 0.026231,
     "end_time": "2022-05-07T03:05:30.823237",
     "exception": false,
     "start_time": "2022-05-07T03:05:30.797006",
     "status": "completed"
    },
    "tags": []
   },
   "outputs": [],
   "source": [
    "def apply_savgol_filter(df, wl, poly):\n",
    "    df.LatitudeDegrees = savgol_filter(df.LatitudeDegrees, wl, poly)\n",
    "    df.LongitudeDegrees = savgol_filter(df.LongitudeDegrees, wl, poly)\n",
    "    return df"
   ]
  },
  {
   "cell_type": "markdown",
   "id": "38bd4f23",
   "metadata": {
    "papermill": {
     "duration": 0.017133,
     "end_time": "2022-05-07T03:05:30.859096",
     "exception": false,
     "start_time": "2022-05-07T03:05:30.841963",
     "status": "completed"
    },
    "tags": []
   },
   "source": [
    "# Bayesian Optimization"
   ]
  },
  {
   "cell_type": "code",
   "execution_count": 7,
   "id": "b81445b4",
   "metadata": {
    "execution": {
     "iopub.execute_input": "2022-05-07T03:05:30.895640Z",
     "iopub.status.busy": "2022-05-07T03:05:30.895145Z",
     "iopub.status.idle": "2022-05-07T03:05:30.902271Z",
     "shell.execute_reply": "2022-05-07T03:05:30.901407Z"
    },
    "papermill": {
     "duration": 0.027947,
     "end_time": "2022-05-07T03:05:30.904625",
     "exception": false,
     "start_time": "2022-05-07T03:05:30.876678",
     "status": "completed"
    },
    "tags": []
   },
   "outputs": [],
   "source": [
    "def optimize(params):\n",
    "    th, wl, poly = params\n",
    "    if wl%2==0:\n",
    "        wl+=1\n",
    "    \n",
    "    score_list = []\n",
    "\n",
    "    for tripID in sorted(bl_train.tripId.unique()):\n",
    "\n",
    "        gt_df   = pd.read_csv(f'{INPUT_PATH}/train/{tripID}/ground_truth.csv')\n",
    "        pred_df = bl_train[bl_train.tripId == tripID]\n",
    "\n",
    "        pred_df = correct_outliers(pred_df, th)\n",
    "        pred_df = apply_savgol_filter(pred_df, wl, poly)\n",
    "\n",
    "        score = calc_score(tripID, pred_df, gt_df)\n",
    "        score_list.append(score)\n",
    "\n",
    "    mean_score = np.mean(score_list)\n",
    "    return mean_score"
   ]
  },
  {
   "cell_type": "code",
   "execution_count": 8,
   "id": "a53a0372",
   "metadata": {
    "execution": {
     "iopub.execute_input": "2022-05-07T03:05:30.942412Z",
     "iopub.status.busy": "2022-05-07T03:05:30.941863Z",
     "iopub.status.idle": "2022-05-07T03:29:30.839645Z",
     "shell.execute_reply": "2022-05-07T03:29:30.838555Z"
    },
    "papermill": {
     "duration": 1439.920046,
     "end_time": "2022-05-07T03:29:30.842716",
     "exception": false,
     "start_time": "2022-05-07T03:05:30.922670",
     "status": "completed"
    },
    "tags": []
   },
   "outputs": [],
   "source": [
    "space = [Real(1.5, 2.5, name='threshhold'), \n",
    "         Integer(7, 31, name='window_len'), \n",
    "         Integer(2, 6, name='poly_order')]\n",
    "\n",
    "result = gp_minimize(optimize, space, n_calls=100)"
   ]
  },
  {
   "cell_type": "code",
   "execution_count": 9,
   "id": "86f94136",
   "metadata": {
    "execution": {
     "iopub.execute_input": "2022-05-07T03:29:30.881348Z",
     "iopub.status.busy": "2022-05-07T03:29:30.880970Z",
     "iopub.status.idle": "2022-05-07T03:29:30.886688Z",
     "shell.execute_reply": "2022-05-07T03:29:30.885728Z"
    },
    "papermill": {
     "duration": 0.028835,
     "end_time": "2022-05-07T03:29:30.889324",
     "exception": false,
     "start_time": "2022-05-07T03:29:30.860489",
     "status": "completed"
    },
    "tags": []
   },
   "outputs": [
    {
     "name": "stdout",
     "output_type": "stream",
     "text": [
      "best train score: 3.905408088558586\n"
     ]
    }
   ],
   "source": [
    "print(f'best train score: {result.fun}')"
   ]
  },
  {
   "cell_type": "code",
   "execution_count": 10,
   "id": "f8f2e535",
   "metadata": {
    "execution": {
     "iopub.execute_input": "2022-05-07T03:29:30.927488Z",
     "iopub.status.busy": "2022-05-07T03:29:30.927110Z",
     "iopub.status.idle": "2022-05-07T03:29:30.933321Z",
     "shell.execute_reply": "2022-05-07T03:29:30.932347Z"
    },
    "papermill": {
     "duration": 0.028642,
     "end_time": "2022-05-07T03:29:30.936061",
     "exception": false,
     "start_time": "2022-05-07T03:29:30.907419",
     "status": "completed"
    },
    "tags": []
   },
   "outputs": [
    {
     "name": "stdout",
     "output_type": "stream",
     "text": [
      "best params:\n",
      "outlier threshhold: 1.5\n",
      "savgol filter window length: 11\n",
      "savgol filter poly order: 2\n"
     ]
    }
   ],
   "source": [
    "if result.x[1]%2==0:\n",
    "    result.x[1]+=1\n",
    "\n",
    "print(f'best params:\\noutlier threshhold: {result.x[0]}\\nsavgol filter window length: {result.x[1]}\\nsavgol filter poly order: {result.x[2]}')"
   ]
  },
  {
   "cell_type": "markdown",
   "id": "7f3ace60",
   "metadata": {
    "papermill": {
     "duration": 0.017657,
     "end_time": "2022-05-07T03:29:30.973205",
     "exception": false,
     "start_time": "2022-05-07T03:29:30.955548",
     "status": "completed"
    },
    "tags": []
   },
   "source": [
    "# Submit"
   ]
  },
  {
   "cell_type": "code",
   "execution_count": 11,
   "id": "98710d0b",
   "metadata": {
    "execution": {
     "iopub.execute_input": "2022-05-07T03:29:31.013893Z",
     "iopub.status.busy": "2022-05-07T03:29:31.012929Z",
     "iopub.status.idle": "2022-05-07T03:29:33.575921Z",
     "shell.execute_reply": "2022-05-07T03:29:33.574811Z"
    },
    "papermill": {
     "duration": 2.587236,
     "end_time": "2022-05-07T03:29:33.578643",
     "exception": false,
     "start_time": "2022-05-07T03:29:30.991407",
     "status": "completed"
    },
    "tags": []
   },
   "outputs": [],
   "source": [
    "preds = list()\n",
    "\n",
    "for tripID in sorted(bl_test.tripId.unique()):\n",
    "    pred_df = bl_test[bl_test.tripId == tripID]\n",
    "\n",
    "    pred_df = correct_outliers(pred_df, result.x[0])\n",
    "    pred_df = apply_savgol_filter(pred_df, result.x[1], result.x[2])\n",
    "\n",
    "    preds.append(pred_df)\n",
    "    \n",
    "sub = pd.concat(preds)\n",
    "sub = sub[[\"tripId\", \"UnixTimeMillis\", \"LatitudeDegrees\", \"LongitudeDegrees\"]]\n",
    "sub.to_csv('submission.csv', index=False)"
   ]
  },
  {
   "cell_type": "code",
   "execution_count": null,
   "id": "e7a8fea1",
   "metadata": {
    "papermill": {
     "duration": 0.017941,
     "end_time": "2022-05-07T03:29:33.614741",
     "exception": false,
     "start_time": "2022-05-07T03:29:33.596800",
     "status": "completed"
    },
    "tags": []
   },
   "outputs": [],
   "source": []
  }
 ],
 "metadata": {
  "kernelspec": {
   "display_name": "Python 3",
   "language": "python",
   "name": "python3"
  },
  "language_info": {
   "codemirror_mode": {
    "name": "ipython",
    "version": 3
   },
   "file_extension": ".py",
   "mimetype": "text/x-python",
   "name": "python",
   "nbconvert_exporter": "python",
   "pygments_lexer": "ipython3",
   "version": "3.7.12"
  },
  "papermill": {
   "default_parameters": {},
   "duration": 1458.138683,
   "end_time": "2022-05-07T03:29:34.760667",
   "environment_variables": {},
   "exception": null,
   "input_path": "__notebook__.ipynb",
   "output_path": "__notebook__.ipynb",
   "parameters": {},
   "start_time": "2022-05-07T03:05:16.621984",
   "version": "2.3.4"
  }
 },
 "nbformat": 4,
 "nbformat_minor": 5
}
