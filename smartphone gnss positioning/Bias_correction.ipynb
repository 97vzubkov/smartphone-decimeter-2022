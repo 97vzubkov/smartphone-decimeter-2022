{
 "cells": [
  {
   "cell_type": "code",
   "execution_count": 1,
   "id": "d0537796",
   "metadata": {},
   "outputs": [],
   "source": [
    "import numpy as np\n",
    "import pandas as pd\n",
    "from scipy.interpolate import InterpolatedUnivariateSpline\n",
    "\n",
    "import transform\n",
    "\n",
    "import pymap3d.vincenty as pmv\n",
    "from skopt import gp_minimize\n",
    "from skopt.space import Real, Integer\n",
    "\n",
    "import warnings\n",
    "warnings.filterwarnings('ignore')\n",
    "\n",
    "#BASE_DIR = '/Users/vadimzubkov/Desktop/smartphone-decimeter-2022/train/2021-03-16-US-MTV-1'\n",
    "#BASE_DIR = Path('/Users/vadimzubkov/Desktop/smartphone-decimeter-2022/train/2021-03-16-US-MTV-1')\n",
    "\n",
    "path = '/Users/vadimzubkov/Desktop/smartphone-decimeter-2022'"
   ]
  },
  {
   "cell_type": "code",
   "execution_count": 2,
   "id": "05f62cdb",
   "metadata": {},
   "outputs": [],
   "source": [
    "def bias_correction_phone(args):\n",
    "        phone, phone_df = args\n",
    "\n",
    "        B = np.deg2rad(phone_df['LatitudeDegrees'].values)\n",
    "        L = np.deg2rad(phone_df['LongitudeDegrees'].values)\n",
    "        H = np.zeros_like(B)\n",
    "        BLH = transform.BLH(lat=B, lng=L, hgt=H) #\n",
    "        J = transform.jacobian_BL_to_EN(BLH) #\n",
    "\n",
    "        t_ref  = phone_df['UnixTimeMillis'].min()\n",
    "        TIME   = 1e-3 * (phone_df['UnixTimeMillis'] - t_ref).values\n",
    "        dotB   = InterpolatedUnivariateSpline(TIME, B, k=3).derivative()(TIME)\n",
    "        dotL   = InterpolatedUnivariateSpline(TIME, L, k=3).derivative()(TIME)\n",
    "        dotBL  = np.stack([dotB, dotL], axis=1)\n",
    "        dotEN  = np.einsum('nij,nj->ni', J, dotBL)\n",
    "        absV   = np.sqrt(np.sum(dotEN**2, axis=1))\n",
    "        th_az  = np.arctan2(dotEN[:, 0], dotEN[:, 1])\n",
    "\n",
    "        cos_az = np.cos(th_az)\n",
    "        sin_az = np.sin(th_az)\n",
    "        valid  = (absV > (5 / 3.6))\n",
    "        cos_az = InterpolatedUnivariateSpline(TIME[valid], cos_az[valid], k=1, ext=3)(TIME)\n",
    "        sin_az = InterpolatedUnivariateSpline(TIME[valid], sin_az[valid], k=1, ext=3)(TIME)\n",
    "        th_az  = np.arctan2(sin_az, cos_az)\n",
    "        cos_az = np.cos(th_az)\n",
    "        sin_az = np.sin(th_az)\n",
    "\n",
    "        delta_X  = - BIAS_X\n",
    "        delta_Y  = - BIAS_Y\n",
    "        delta_E  = (  cos_az * delta_X) + (sin_az * delta_Y)\n",
    "        delta_N  = (- sin_az * delta_X) + (cos_az * delta_Y)\n",
    "        delta_EN = np.stack([delta_E, delta_N], axis=0) # shape = (2, N)\n",
    "        Jinv = np.linalg.inv(np.mean(J, axis=0))\n",
    "        delta_BL_rad = Jinv @ delta_EN\n",
    "        delta_BL_deg = np.rad2deg(delta_BL_rad)\n",
    "\n",
    "        output_df = pd.DataFrame({\n",
    "            'tripId'               : phone_df['tripId'],\n",
    "            'UnixTimeMillis' : phone_df['UnixTimeMillis'],\n",
    "            'LatitudeDegrees'              : phone_df['LatitudeDegrees'] + delta_BL_deg[0, :],\n",
    "            'LongitudeDegrees'              : phone_df['LongitudeDegrees'] + delta_BL_deg[1, :],\n",
    "        })\n",
    "        return output_df\n",
    "    \n",
    "def bias_correction(base_df):\n",
    "        output_df = base_df.sort_values(['tripId', 'UnixTimeMillis']).reset_index(drop=True).copy()\n",
    "        output_df_list = map(bias_correction_phone, base_df.groupby('tripId'))\n",
    "        _df = pd.concat(output_df_list, axis=0)\n",
    "        _df = _df.sort_values(['tripId', 'UnixTimeMillis']).reset_index(drop=True)\n",
    "        output_df[['LatitudeDegrees','LongitudeDegrees']] = _df[['LatitudeDegrees','LongitudeDegrees']]\n",
    "        return output_df"
   ]
  },
  {
   "cell_type": "code",
   "execution_count": 3,
   "id": "e0843882",
   "metadata": {},
   "outputs": [],
   "source": [
    "# Compute distance by Vincenty's formulae\n",
    "def vincenty_distance(llh1, llh2):\n",
    "    \"\"\"\n",
    "    Args:\n",
    "        llh1 : [latitude,longitude] (deg)\n",
    "        llh2 : [latitude,longitude] (deg)\n",
    "    Returns:\n",
    "        d : distance between llh1 and llh2 (m)\n",
    "    \"\"\"\n",
    "    d, az = np.array(pmv.vdist(llh1[:, 0], llh1[:, 1], llh2[:, 0], llh2[:, 1]))\n",
    "\n",
    "    return d\n",
    "\n",
    "\n",
    "# Compute score\n",
    "def calc_score(llh, llh_gt):\n",
    "    \"\"\"\n",
    "    Args:\n",
    "        llh : [latitude,longitude] (deg)\n",
    "        llh_gt : [latitude,longitude] (deg)\n",
    "    Returns:\n",
    "        score : (m)\n",
    "    \"\"\"\n",
    "    d = vincenty_distance(llh, llh_gt)\n",
    "    score = np.mean([np.quantile(d, 0.50), np.quantile(d, 0.95)])\n",
    "\n",
    "    return score"
   ]
  },
  {
   "cell_type": "code",
   "execution_count": 4,
   "id": "57841505",
   "metadata": {},
   "outputs": [
    {
     "name": "stdout",
     "output_type": "stream",
     "text": [
      "score without bias correction: 3.3750655588077088\n",
      "score with bias correction: 3.310785308742261\n"
     ]
    }
   ],
   "source": [
    "BIAS_X = 0.3\n",
    "BIAS_Y = 0.4\n",
    "\n",
    "train_base = pd.read_csv('baseline_train.csv')\n",
    "ground_base = pd.read_csv('train_gt.csv')\n",
    "llh_gt = ground_base[['LatitudeDegrees', 'LongitudeDegrees']].to_numpy()\n",
    "llh_bl = train_base[['LatitudeDegrees', 'LongitudeDegrees']].to_numpy()\n",
    "    \n",
    "score_bl = calc_score(llh_bl, llh_gt)\n",
    "print(f'score without bias correction: {score_bl}')\n",
    "\n",
    "train = bias_correction(train_base)\n",
    "llh_bias = train[['LatitudeDegrees', 'LongitudeDegrees']].to_numpy()\n",
    "score_bias = calc_score(llh_bias, llh_gt)\n",
    "print(f'score with bias correction: {score_bias}')"
   ]
  },
  {
   "cell_type": "code",
   "execution_count": 5,
   "id": "c11dbd76",
   "metadata": {},
   "outputs": [],
   "source": [
    "test_base_rtk = pd.read_csv('sub_savgol.csv') #submit_0722\n",
    "test_base_wls = pd.read_csv('best_public.csv')\n",
    "test_rtk = bias_correction(test_base_rtk)\n",
    "test_wls = bias_correction(test_base_wls)"
   ]
  },
  {
   "cell_type": "code",
   "execution_count": 6,
   "id": "4d534b65",
   "metadata": {},
   "outputs": [],
   "source": [
    "test_rtk.to_csv('sub_savgol_bias.csv', index=False)\n",
    "test_wls.to_csv('sub_public_bias.csv', index=False)"
   ]
  }
 ],
 "metadata": {
  "kernelspec": {
   "display_name": "Python 3 (ipykernel)",
   "language": "python",
   "name": "python3"
  },
  "language_info": {
   "codemirror_mode": {
    "name": "ipython",
    "version": 3
   },
   "file_extension": ".py",
   "mimetype": "text/x-python",
   "name": "python",
   "nbconvert_exporter": "python",
   "pygments_lexer": "ipython3",
   "version": "3.9.12"
  }
 },
 "nbformat": 4,
 "nbformat_minor": 5
}
