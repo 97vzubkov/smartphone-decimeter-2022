{
 "cells": [
  {
   "cell_type": "code",
   "execution_count": 1,
   "id": "65dd8a14",
   "metadata": {},
   "outputs": [],
   "source": [
    "import os\n",
    "import pandas as pd\n",
    "import numpy as np"
   ]
  },
  {
   "cell_type": "code",
   "execution_count": 2,
   "id": "9ea9ccbb",
   "metadata": {},
   "outputs": [],
   "source": [
    "sub1 = pd.read_csv('submission_sm_wls.csv')\n",
    "sub2 = pd.read_csv('submission_sm_rtk.csv')\n",
    "\n",
    "sub3 = pd.read_csv('sub_savgol_bias.csv')\n",
    "sub4 = pd.read_csv('sub_public_bias.csv')"
   ]
  },
  {
   "cell_type": "code",
   "execution_count": 3,
   "id": "3a9c2ceb",
   "metadata": {},
   "outputs": [
    {
     "name": "stderr",
     "output_type": "stream",
     "text": [
      "/var/folders/lz/f9_7hyq96l709vl0kbljy_f80000gn/T/ipykernel_78243/3996321911.py:9: SettingWithCopyWarning: \n",
      "A value is trying to be set on a copy of a slice from a DataFrame.\n",
      "Try using .loc[row_indexer,col_indexer] = value instead\n",
      "\n",
      "See the caveats in the documentation: https://pandas.pydata.org/pandas-docs/stable/user_guide/indexing.html#returning-a-view-versus-a-copy\n",
      "  sub['LatitudeDegrees'] = (sub1['LatitudeDegrees'] + sub2['LatitudeDegrees']) / 2\n"
     ]
    }
   ],
   "source": [
    "#averaging \n",
    "\n",
    "sub = sub2[['tripId', 'UnixTimeMillis']]\n",
    "\n",
    "#sub['LatitudeDegrees'] = (sub2['LatitudeDegrees'] + sub1['LatitudeDegrees']) / 2\n",
    "#sub['LongitudeDegrees'] = (sub2['LongitudeDegrees'] + sub1['LongitudeDegrees']) / 2\n",
    "\n",
    "#weighted averaging\n",
    "sub['LatitudeDegrees'] = (sub1['LatitudeDegrees'] + sub2['LatitudeDegrees']) / 2\n",
    "sub['LongitudeDegrees'] = (sub1['LongitudeDegrees'] + sub2['LongitudeDegrees']) / 2"
   ]
  },
  {
   "cell_type": "code",
   "execution_count": 4,
   "id": "f6e41bba",
   "metadata": {},
   "outputs": [
    {
     "data": {
      "text/html": [
       "<div>\n",
       "<style scoped>\n",
       "    .dataframe tbody tr th:only-of-type {\n",
       "        vertical-align: middle;\n",
       "    }\n",
       "\n",
       "    .dataframe tbody tr th {\n",
       "        vertical-align: top;\n",
       "    }\n",
       "\n",
       "    .dataframe thead th {\n",
       "        text-align: right;\n",
       "    }\n",
       "</style>\n",
       "<table border=\"1\" class=\"dataframe\">\n",
       "  <thead>\n",
       "    <tr style=\"text-align: right;\">\n",
       "      <th></th>\n",
       "      <th>tripId</th>\n",
       "      <th>UnixTimeMillis</th>\n",
       "      <th>LatitudeDegrees</th>\n",
       "      <th>LongitudeDegrees</th>\n",
       "    </tr>\n",
       "  </thead>\n",
       "  <tbody>\n",
       "    <tr>\n",
       "      <th>0</th>\n",
       "      <td>2021-04-28-US-MTV-2/SamsungGalaxyS20Ultra</td>\n",
       "      <td>1619650832999</td>\n",
       "      <td>37.395793</td>\n",
       "      <td>-122.102950</td>\n",
       "    </tr>\n",
       "    <tr>\n",
       "      <th>1</th>\n",
       "      <td>2021-04-28-US-MTV-2/SamsungGalaxyS20Ultra</td>\n",
       "      <td>1619650833999</td>\n",
       "      <td>37.395793</td>\n",
       "      <td>-122.102950</td>\n",
       "    </tr>\n",
       "    <tr>\n",
       "      <th>2</th>\n",
       "      <td>2021-04-28-US-MTV-2/SamsungGalaxyS20Ultra</td>\n",
       "      <td>1619650834999</td>\n",
       "      <td>37.395793</td>\n",
       "      <td>-122.102950</td>\n",
       "    </tr>\n",
       "    <tr>\n",
       "      <th>3</th>\n",
       "      <td>2021-04-28-US-MTV-2/SamsungGalaxyS20Ultra</td>\n",
       "      <td>1619650835999</td>\n",
       "      <td>37.395793</td>\n",
       "      <td>-122.102950</td>\n",
       "    </tr>\n",
       "    <tr>\n",
       "      <th>4</th>\n",
       "      <td>2021-04-28-US-MTV-2/SamsungGalaxyS20Ultra</td>\n",
       "      <td>1619650836999</td>\n",
       "      <td>37.395792</td>\n",
       "      <td>-122.102946</td>\n",
       "    </tr>\n",
       "  </tbody>\n",
       "</table>\n",
       "</div>"
      ],
      "text/plain": [
       "                                      tripId  UnixTimeMillis  LatitudeDegrees  \\\n",
       "0  2021-04-28-US-MTV-2/SamsungGalaxyS20Ultra   1619650832999        37.395793   \n",
       "1  2021-04-28-US-MTV-2/SamsungGalaxyS20Ultra   1619650833999        37.395793   \n",
       "2  2021-04-28-US-MTV-2/SamsungGalaxyS20Ultra   1619650834999        37.395793   \n",
       "3  2021-04-28-US-MTV-2/SamsungGalaxyS20Ultra   1619650835999        37.395793   \n",
       "4  2021-04-28-US-MTV-2/SamsungGalaxyS20Ultra   1619650836999        37.395792   \n",
       "\n",
       "   LongitudeDegrees  \n",
       "0       -122.102950  \n",
       "1       -122.102950  \n",
       "2       -122.102950  \n",
       "3       -122.102950  \n",
       "4       -122.102946  "
      ]
     },
     "execution_count": 4,
     "metadata": {},
     "output_type": "execute_result"
    }
   ],
   "source": [
    "sub.head()"
   ]
  },
  {
   "cell_type": "code",
   "execution_count": 5,
   "id": "5a3f6895",
   "metadata": {},
   "outputs": [],
   "source": [
    "sub.to_csv('average_sm_v2.csv', index=False)"
   ]
  }
 ],
 "metadata": {
  "kernelspec": {
   "display_name": "Python 3 (ipykernel)",
   "language": "python",
   "name": "python3"
  },
  "language_info": {
   "codemirror_mode": {
    "name": "ipython",
    "version": 3
   },
   "file_extension": ".py",
   "mimetype": "text/x-python",
   "name": "python",
   "nbconvert_exporter": "python",
   "pygments_lexer": "ipython3",
   "version": "3.9.12"
  }
 },
 "nbformat": 4,
 "nbformat_minor": 5
}
