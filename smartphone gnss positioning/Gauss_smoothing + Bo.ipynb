{
 "cells": [
  {
   "cell_type": "code",
   "execution_count": null,
   "id": "6ddfe002",
   "metadata": {},
   "outputs": [],
   "source": [
    "def Gauss_smoothing(data, params):\n",
    "    \n",
    "    #for unique trips ??\n",
    "    \n",
    "    df = np.copy(data)\n",
    "    \n",
    "    SZ_1 = params['sz_1']\n",
    "    SZ_2 = params['sz_2']\n",
    "    SZ_CRIT = params['sz_crit']    \n",
    "    \n",
    "    lat_g1 = gaussian_filter1d(df[:, 0], np.sqrt(SZ_1))\n",
    "    lon_g1 = gaussian_filter1d(df[:, 1], np.sqrt(SZ_1))\n",
    "    lat_g2 = gaussian_filter1d(df[:, 0], np.sqrt(SZ_2))\n",
    "    lon_g2 = gaussian_filter1d(df[:, 1], np.sqrt(SZ_2))\n",
    "\n",
    "    lat_dif = df[1:,0] - df[:-1,0]\n",
    "    lon_dif = df[1:,1] - df[:-1,1]\n",
    "\n",
    "    lat_crit = np.append(np.abs(gaussian_filter1d(lat_dif, np.sqrt(SZ_CRIT)) / (1e-9 + gaussian_filter1d(np.abs(lat_dif), np.sqrt(SZ_CRIT)))),[0])\n",
    "    lon_crit = np.append(np.abs(gaussian_filter1d(lon_dif, np.sqrt(SZ_CRIT)) / (1e-9 + gaussian_filter1d(np.abs(lon_dif), np.sqrt(SZ_CRIT)))),[0])           \n",
    "            \n",
    "    df[:, 0] = lat_g1 * lat_crit + lat_g2 * (1.0 - lat_crit)\n",
    "    df[:, 1] = lon_g1 * lon_crit + lon_g2 * (1.0 - lon_crit)    \n",
    "                       \n",
    "    return df"
   ]
  },
  {
   "cell_type": "code",
   "execution_count": 1,
   "id": "1d1c7ed0",
   "metadata": {},
   "outputs": [],
   "source": [
    "def optimize(params):\n",
    "    v_up_th, height_th, v_out_sigma, v_out_sigma = params\n",
    "    \n",
    "    score_list = []\n",
    "    \n",
    "    path = '/Users/vadimzubkov/Desktop/smartphone-decimeter-2022/train/2021-03-16-US-MTV-1/GooglePixel4XL'\n",
    "\n",
    "    drive, phone = path.split('/')[-2:]\n",
    "\n",
    "\n",
    "    gnss_df = pd.read_csv(f'{path}/device_gnss.csv')     \n",
    "\n",
    "    gt_df = pd.read_csv(f'{path}/ground_truth.csv')\n",
    "\n",
    "    utc, x_wls, v_wls, cov_x, cov_v = point_positioning(gnss_df)\n",
    "\n",
    "    x_wls, v_wls, cov_x, cov_v = exclude_interpolate_outlier(x_wls, v_wls, cov_x, cov_v)\n",
    "\n",
    "    x_kf, _, _ = Kalman_smoothing(x_wls, v_wls, cov_x, cov_v, phone)\n",
    "\n",
    "    llh_wls = np.array(pm.ecef2geodetic(x_wls[:, 0], x_wls[:, 1], x_wls[:, 2])).T\n",
    "    llh_kf = np.array(pm.ecef2geodetic(x_kf[:, 0], x_kf[:, 1], x_kf[:, 2])).T\n",
    "\n",
    "\n",
    "    llh_gs = Gauss_smoothing(llh_kf, {'sz_1' : sz_1, 'sz_2' : sz_2, 'sz_crit' : sz_crit})\n",
    "\n",
    "\n",
    "    x_bl = gnss_df.groupby('TimeNanos')[\n",
    "        ['WlsPositionXEcefMeters', 'WlsPositionYEcefMeters', 'WlsPositionZEcefMeters']].mean().to_numpy()\n",
    "    llh_bl = np.array(pm.ecef2geodetic(x_bl[:, 0], x_bl[:, 1], x_bl[:, 2])).T\n",
    "\n",
    "\n",
    "    llh_gt = gt_df[['LatitudeDegrees', 'LongitudeDegrees']].to_numpy()\n",
    "        \n",
    "    score_bl = calc_score(llh_bl, llh_gt)\n",
    "    score_wls = calc_score(llh_wls, llh_gt)\n",
    "    score_kf = calc_score(llh_kf[:-1, :], llh_gt[:-1, :])\n",
    "    score_gs = calc_score(llh_gs, llh_gt) \n",
    "    \n",
    "    score_list.append(score_gs)\n",
    "\n",
    "    mean_score = np.mean(score_list)\n",
    "    \n",
    "    return mean_score"
   ]
  },
  {
   "cell_type": "code",
   "execution_count": 2,
   "id": "271f61f7",
   "metadata": {},
   "outputs": [
    {
     "ename": "NameError",
     "evalue": "name 'Real' is not defined",
     "output_type": "error",
     "traceback": [
      "\u001b[0;31m---------------------------------------------------------------------------\u001b[0m",
      "\u001b[0;31mNameError\u001b[0m                                 Traceback (most recent call last)",
      "Input \u001b[0;32mIn [2]\u001b[0m, in \u001b[0;36m<cell line: 1>\u001b[0;34m()\u001b[0m\n\u001b[0;32m----> 1\u001b[0m space \u001b[38;5;241m=\u001b[39m [\u001b[43mReal\u001b[49m(\u001b[38;5;241m0.5\u001b[39m, \u001b[38;5;241m3.0\u001b[39m, name\u001b[38;5;241m=\u001b[39m\u001b[38;5;124m'\u001b[39m\u001b[38;5;124mv_up_th\u001b[39m\u001b[38;5;124m'\u001b[39m), \n\u001b[1;32m      2\u001b[0m          Integer(\u001b[38;5;241m50\u001b[39m, \u001b[38;5;241m300\u001b[39m, name\u001b[38;5;241m=\u001b[39m\u001b[38;5;124m'\u001b[39m\u001b[38;5;124mheight_th\u001b[39m\u001b[38;5;124m'\u001b[39m), \n\u001b[1;32m      3\u001b[0m          Integer(\u001b[38;5;241m1\u001b[39m, \u001b[38;5;241m10\u001b[39m, name\u001b[38;5;241m=\u001b[39m\u001b[38;5;124m'\u001b[39m\u001b[38;5;124mv_out_sigma\u001b[39m\u001b[38;5;124m'\u001b[39m),\n\u001b[1;32m      4\u001b[0m          Integer(\u001b[38;5;241m20\u001b[39m, \u001b[38;5;241m50\u001b[39m, name\u001b[38;5;241m=\u001b[39m\u001b[38;5;124m'\u001b[39m\u001b[38;5;124mv_out_sigma\u001b[39m\u001b[38;5;124m'\u001b[39m)]\n\u001b[1;32m      6\u001b[0m result \u001b[38;5;241m=\u001b[39m gp_minimize(optimize, space, n_calls\u001b[38;5;241m=\u001b[39m\u001b[38;5;241m100\u001b[39m, initial_point_generator\u001b[38;5;241m=\u001b[39m\u001b[38;5;124m'\u001b[39m\u001b[38;5;124mrandom\u001b[39m\u001b[38;5;124m'\u001b[39m)\n",
      "\u001b[0;31mNameError\u001b[0m: name 'Real' is not defined"
     ]
    }
   ],
   "source": [
    "space = [Real(0.5, 3.0, name='v_up_th'), \n",
    "         Integer(50, 300, name='height_th'), \n",
    "         Integer(1, 10, name='v_out_sigma'),\n",
    "         Integer(20, 50, name='v_out_sigma')]\n",
    "\n",
    "result = gp_minimize(optimize, space, n_calls=100, initial_point_generator='random')"
   ]
  },
  {
   "cell_type": "code",
   "execution_count": null,
   "id": "f7195b9c",
   "metadata": {},
   "outputs": [],
   "source": [
    "print(f'best train score: {result.fun}') \n",
    "\n",
    "print(f'best params:\\nsz_1: {result.x[0]}\\nsz_2: {result.x[1]}\\nsz_crit: {result.x[2]}')"
   ]
  },
  {
   "cell_type": "code",
   "execution_count": null,
   "id": "8de39f4f",
   "metadata": {},
   "outputs": [],
   "source": []
  }
 ],
 "metadata": {
  "kernelspec": {
   "display_name": "Python 3 (ipykernel)",
   "language": "python",
   "name": "python3"
  },
  "language_info": {
   "codemirror_mode": {
    "name": "ipython",
    "version": 3
   },
   "file_extension": ".py",
   "mimetype": "text/x-python",
   "name": "python",
   "nbconvert_exporter": "python",
   "pygments_lexer": "ipython3",
   "version": "3.9.12"
  }
 },
 "nbformat": 4,
 "nbformat_minor": 5
}
